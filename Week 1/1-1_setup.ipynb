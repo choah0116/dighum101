{
 "cells": [
  {
   "cell_type": "markdown",
   "metadata": {},
   "source": [
    "<center><b>DIGHUM101</b></center>\n",
    "<center>1-1: Setup</center>\n",
    "\n",
    "---"
   ]
  },
  {
   "cell_type": "markdown",
   "metadata": {},
   "source": [
    "# Learning objectives\n",
    "\n",
    "1. Learn about Digital Humanities and D-Lab at Berkeley\n",
    "2. Syllabus overview\n",
    "3. Software installations\n",
    "4. Download course materials\n",
    "5. Open a Jupyter Notebook"
   ]
  },
  {
   "cell_type": "markdown",
   "metadata": {},
   "source": [
    "<tr>\n",
    "    <td> <img src=\"../../Img/dhlogo.png\" width=\"200\" alt=\"\" style=\"width: 300px;\"/> </td>\n",
    "    <td> <img src=\"../../Img/dhsummer.png\" width=\"200\" alt=\"\" style=\"width: 300px;\"/> </td>\n",
    "    <td> <img src=\"../../Img/dlablogo1.png\" width=\"200\" alt=\"\" style=\"width: 300px;\"/> </td>\n",
    "    </tr>"
   ]
  },
  {
   "cell_type": "markdown",
   "metadata": {},
   "source": [
    "# Welcome to DIGHUM 101!\n",
    "\n",
    "This class is part of the [Digital Humanities at Berkeley Summer Minor](https://summerdigitalhumanities.berkeley.edu/). \n",
    "\n",
    "<img src=\"../img/dhsummer.png\" alt=\"[Digital Humanities at Berkeley Summer Minor\" width=\"700\"/>\n"
   ]
  },
  {
   "cell_type": "markdown",
   "metadata": {},
   "source": [
    "# Introductions\n",
    "\n",
    "- What is your name and what are your pronouns?\n",
    "- What are you studying at Berkeley?\n",
    "- What year are you?\n",
    "- Where are you based/joining the course from?\n",
    "- What is your experience with coding?\n",
    "- What is your experience with (digital) humanities?\n",
    "- What are your learning goals for this class?"
   ]
  },
  {
   "cell_type": "markdown",
   "metadata": {},
   "source": [
    "# Syllabus\n",
    "\n",
    "You can find the syllabus on bCourses\n",
    "\n",
    "## Learning Objectives\n",
    "- A variety of Pythonic approaches to explore questions in the humanities;\n",
    "- How to understand data more holistically, its generative process and lifecycle;\n",
    "- Strategies for organizing research projects based on your interests;\n",
    "- Methods for data acquisition and visualization, computational text analysis, and machine learning;\n",
    "- The importance of developing a critical lens in your field of study.\n",
    "\n",
    "## Attendance\n",
    "This course is synchronous and attendance is required. Asynchronous exceptions will be considered on a case-by-case basis, such as for those living in distant time zones. Attendance will be tracked through Zoom sign-ins.\n",
    "\n",
    "Each class is divided into two types:\n",
    "    \n",
    "Lecture days: The instructor will take you through the Jupyter notebooks. The remainder of the time will be for you to work through specific challenge set problems, ask questions, and think about how the topic relates to your projects.\n",
    "    \n",
    "Project days: These days will be exclusively focused on your individual and group projects.\n",
    "\n",
    "The purpose of the individual project is to build necessary analytical skills to study the code and digital approaches behind various projects. It consists of two parts:\n",
    "\n",
    "### Short Paper\n",
    "\n",
    "You will choose a topic, either a methodology/approach like topic modeling or a task, like named entity recognition and identify three papers on your chosen topic. You will briefly summarize their methods, why they chose these methods, and study their code and data. You will critically evaluate the papers to understand where the weaknesses and strengths of these papers are. Your paper should be 2 pages and written in LaTeX. We will have a session dedicated to using Overleaf. \n",
    "**Deadline: 20 June 2025**\n",
    "\n",
    "### Presentation\n",
    "\n",
    "You will replicate the code in one of the papers you evaluated and walk us through that code.\n",
    "**Deadline: 30 June 2025**\n",
    "\n",
    "\n",
    "## Group Project\n",
    "\n",
    "The group project will require you to work in small groups (3-4 students) and develop a project that answers a clearly defined question using computational methods. There are three components to the group project.\n",
    "\n",
    "### Topic Statement\n",
    "\n",
    "This is an open topic project, as long as it is using humanistic data and computational methods. The main limiting factor is time. This is a six-week course. Think big, but then carve out a little slice of that big idea to focus on. Make sure to match the scope and scale of your idea to the datasets available to you. In this topic statement you will describe your idea/question and identify the dataset(s) that you will use in your project. The topic statement should be 2 pages long and written in LaTeX. We will talk more about group projects in Week 1 and datasets in Week 2.\n",
    "**Deadline: 06 June 2025**\n",
    "\n",
    "### Short Paper\n",
    "\n",
    "You will write a short paper summarizing your findings. This paper should clearly identify the question you studied and your approach to it. It should tell us the methods you used to answer this question. Your paper must include at least one data visualization. You should also explicitly state where your methods failed and what future research directions can be taken. You do not need to show your code in this paper but you will need to submit your code separately as a GitHub repository. \n",
    "**Deadline: 1 July 2025**\n",
    "\n",
    "### Presentation\n",
    "\n",
    "You are required to give a 10-minute presentation of your group project. A functioning Jupyter Notebook is the only acceptable format. Walk us through the notebook, your findings, and the choices you made in the research process. \n",
    "**Deadline: 1 July 2025**\n",
    "\n",
    "### Video Reflection\n",
    "\n",
    "Record a 3-5 minute video that demonstrates thoughtful reflection about how your ideas regarding digital humanities research grew throughout this course. Use specific examples and perspectives from your individual and group projects. You must appear in at least 30 seconds of footage. Submit on bCourses\n",
    "**Deadline: 3 July 2025**\n"
   ]
  },
  {
   "cell_type": "markdown",
   "metadata": {},
   "source": [
    "# Why learn Python?\n",
    "\n",
    "**1. What is a programming language?**  \n",
    "A [programming language](https://en.wikipedia.org/wiki/Programming_language) is a way to give instructions to a computer. \n",
    "\n",
    "**2. What is Python?**  \n",
    "[Python is](https://en.wikipedia.org/wiki/Python_(programming_language)) a programming language!\n",
    "\n",
    "**3. What is (are) data?**  \n",
    "[\"Data is (are) a set of values](https://en.wikipedia.org/wiki/Data) of subjects with respect to qualitative or quantitative variables.\"  \n",
    "\n",
    "**4. Why learn to program?**  \n",
    "To think like a programmer means that you train to become a code detective, a resourceful Google searcher, and believe that all problems have at least one solution.   \n",
    "\n",
    "\n",
    "- _Practical Efficiency:_ Although the initial learning curve can be frustrating, learning to program can save you lots of time doing basic tasks that you would otherwise have to do by hand.  \n",
    "\n",
    "\n",
    "- _New Tools:_ Some things are literally impossible to do by hand and computers open the door to new tools and methods, with programming as the way to interact with them. \n",
    "\n",
    "\n",
    "- _New Data:_ Programming knowledge is required to access the wealth of new data in the 21st Century from [APIs](https://en.wikipedia.org/wiki/Application_programming_interface), websites, and social media.  \n",
    "\n",
    "\n",
    "- _Better Science:_ This combination of efficiency, tools, and data has the ability to better create transparency, reproducibility, and collaboration that can lead to better science.  "
   ]
  },
  {
   "cell_type": "markdown",
   "metadata": {},
   "source": [
    "# Installations check\n",
    "\n",
    "### 1. Miniconda\n",
    "Download [Miniconda Installer](https://www.anaconda.com/download/) You have to scroll all the way down to the Miniconda installer\n",
    "Make sure to choose the correct Miniconda for your computer (Windows vs Mac) and your chip architecture (Mac Intel or Mac Apple) and download the Graphical Installer (not command line)\n",
    "\n",
    "### 2. GitHub: \n",
    "Create a free GitHub account [here](https://github.com/)\n",
    "\n",
    "### 3. GitHub Pro:\n",
    "Apply for a GitHub Pro Student account [here](https://docs.github.com/en/education/about-github-education/github-education-for-students/apply-to-github-education-as-a-student)\n",
    "\n",
    "### 4. Virtual Studio Code:\n",
    "Download [VS Code](https://code.visualstudio.com/)\n",
    "Sign into VS Code with your GitHub account"
   ]
  },
  {
   "cell_type": "markdown",
   "metadata": {},
   "source": [
    "# Download course materials\n",
    "\n",
    "1. Visit https://github.com/dlab-berkeley/DIGHUM101-2025\n",
    "\n",
    "2. Open VS Code and then open a terminal window inside VS Code and type\n",
    "\n",
    "`git clone https://github.com/dlab-berkeley/DIGHUM101-2025.git`\n",
    "\n",
    "> If this does not work, simply click the green \"Clone or Download\" button, click \"Download Zip\", and then extract this .zip file someplace familiar such as your home folder or Desktop"
   ]
  },
  {
   "cell_type": "markdown",
   "metadata": {},
   "source": [
    "# Conda Environment:\n",
    "\n",
    "### 1. Navigate to the course folder\n",
    "\n",
    "Open VS Code and navigate to the course folder\n",
    "\n",
    "### 2. Create the Conda environment\n",
    "\n",
    "Open a terminal in Visual Studio Code, navigate to the folder where the `environment.yml` file is located, and run:\n",
    "\n",
    "`conda env create -f environment.yml`\n",
    "\n",
    "### 3. Activate the Conda environment\n",
    "\n",
    "`conda activate dighum101`\n",
    "\n",
    "### 4. Make the environment available as a Jupyter kernel\n",
    "\n",
    "`python -m ipykernel install --user --name dighum101`\n",
    "\n",
    "### 5. Deactivate the environment when you're done\n",
    "\n",
    "`conda deactivate`"
   ]
  },
  {
   "cell_type": "markdown",
   "metadata": {},
   "source": []
  }
 ],
 "metadata": {
  "kernelspec": {
   "display_name": "dighum101",
   "language": "python",
   "name": "python3"
  },
  "language_info": {
   "codemirror_mode": {
    "name": "ipython",
    "version": 3
   },
   "file_extension": ".py",
   "mimetype": "text/x-python",
   "name": "python",
   "nbconvert_exporter": "python",
   "pygments_lexer": "ipython3",
   "version": "3.12.10"
  }
 },
 "nbformat": 4,
 "nbformat_minor": 4
}
