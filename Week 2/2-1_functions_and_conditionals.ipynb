{
 "cells": [
  {
   "cell_type": "markdown",
   "metadata": {},
   "source": [
    "<center><b>DIGHUM101</b></center>\n",
    "<center>2-1: Functions and Conditionals</center>\n",
    "\n",
    "---"
   ]
  },
  {
   "cell_type": "markdown",
   "metadata": {
    "tags": []
   },
   "source": [
    "## Recap\n",
    "\n",
    "So far we covered the following:\n",
    "\n",
    "**Variables** are names attached to particular values.\n",
    "* To create a variable, you assign it a value and then start using it.\n",
    "* Assignment is done with a single equals sign `=`.\n",
    "* When we write `n = 300`, we are assigning 300 to the variable `n` via the assignment operator `=`.\n",
    "\n",
    "**Data types** are classifications of data. \n",
    "* There are a lot of data types in Python, such as integers (`int`) and strings (`str`).\n",
    "* Some data types are called **data structures** because they allow us to organize data. Lists (`list`) and dictionaries (`dict`) are two examples.\n",
    "* You can index a list using square brackets, for instance `some_list[0]` to get the first item from `some_list`.\n",
    "\n",
    "**Functions** perform actions on \"things\".\n",
    "* `print()` `len()`, and `type()` are some of the most commonly used functions.\n",
    "* You can identify a function by its trailing round parentheses.  \n",
    "\n",
    "**Arguments** are the \"things\" we perform the action on within a function.\n",
    "* Arguments go inside the trailing parentheses of functions when we call them. \n",
    "* For instance, in `print('D-Lab')`, the string `D-Lab` is an argument.\n",
    "* Arguments are also called inputs or **parameters**.\n",
    "\n",
    "**Methods** are type-specific functions.\n",
    "* Different data types and structures have functions that only apply to them.\n",
    "* For instance, strings have methods that only apply to them (lowercasing, uppercasing, etc.) that won't work with other data types.\n",
    "* Methods are accessed using dot notation – for instance, `some_string.lower()` to lowercase a string.\n",
    "\n",
    "💡 **Tip**: Check out our [Python glossary](https://github.com/dlab-berkeley/Python-Fundamentals/blob/main/glossary.md) for definitions to other key vocabulary."
   ]
  },
  {
   "cell_type": "markdown",
   "metadata": {},
   "source": [
    "<a id='func'></a>\n",
    "\n",
    "# Functions and Arguments\n",
    "\n",
    "In today's workshop, we will be **applying a function to a DataFrame**. This will give us the opportunity to learn more about functions--including how to write one!\n",
    "\n",
    "Recall that arguments are information that goes into a function. The order of arguments matters if we do not specify the so-called **keywords**. For instance, let's see the documentation of the `round()` function:"
   ]
  },
  {
   "cell_type": "code",
   "execution_count": null,
   "metadata": {},
   "outputs": [],
   "source": [
    "?round"
   ]
  },
  {
   "cell_type": "markdown",
   "metadata": {},
   "source": [
    "The **keywords** are the parameter names in between the brackets before the `=` sign. In this case, these are `number` and `ndigits`.\n",
    "\n",
    "We can't just reverse the order of the arguments in `round()`: this will result in an error."
   ]
  },
  {
   "cell_type": "code",
   "execution_count": null,
   "metadata": {},
   "outputs": [],
   "source": [
    "# This works\n",
    "round(3.0003, 4)"
   ]
  },
  {
   "cell_type": "code",
   "execution_count": null,
   "metadata": {},
   "outputs": [],
   "source": [
    "# This doesn't\n",
    "round(2, 3.000)"
   ]
  },
  {
   "cell_type": "markdown",
   "metadata": {},
   "source": [
    "However, if we specify the **keywords** that we can find in the documentation, we can use any order we want."
   ]
  },
  {
   "cell_type": "code",
   "execution_count": null,
   "metadata": {},
   "outputs": [],
   "source": [
    "round(ndigits=2, number=3.000)"
   ]
  },
  {
   "cell_type": "markdown",
   "metadata": {},
   "source": [
    "⚠️ **Warning**: If you specify one keyword for one argument when calling the function, you need to specify the keywords for all arguments!"
   ]
  },
  {
   "cell_type": "markdown",
   "metadata": {},
   "source": [
    "<a id='write'></a>\n",
    "\n",
    "# Writing Your Own Functions\n",
    "\n",
    "Remember, functions are pieces of code that we expect to use over and over again.\n",
    "\n",
    "One of the most useful programming structures in Python is to write our own functions with a custom functionality that is specific to our goals."
   ]
  },
  {
   "cell_type": "markdown",
   "metadata": {},
   "source": [
    "## Basic Function Syntax\n",
    "\n",
    "Writing a function in Python is pretty easy! Let's take a look at a simple function that converts feet into meters:\n",
    "\n",
    "<img src=\"../img/functions.png\" alt=\"Aspects of a Python Function\" width=\"700\"/>\n",
    "\n",
    "Here's the same function written out:"
   ]
  },
  {
   "cell_type": "code",
   "execution_count": null,
   "metadata": {},
   "outputs": [],
   "source": [
    "def feet_to_meters(feet):\n",
    "    meters = feet * .304\n",
    "    return meters"
   ]
  },
  {
   "cell_type": "markdown",
   "metadata": {},
   "source": [
    "Notice how there is **no output** from running the block of code above. This is because defining a function does not run it. The function needs to be **called**, or run, with appropriate arguments to execute the code it contains. \n",
    "\n",
    "Let's run this function. We can save the output to a variable and print the result."
   ]
  },
  {
   "cell_type": "code",
   "execution_count": null,
   "metadata": {},
   "outputs": [],
   "source": [
    "meters = feet_to_meters(100)\n",
    "print(meters)"
   ]
  },
  {
   "cell_type": "markdown",
   "metadata": {},
   "source": [
    "## Variables and Scope\n",
    "\n",
    "Note how we've used the name `meters` twice above: both within the function definition, and for the variable that takes the output of the function. What's going on here?\n",
    "\n",
    "Arguments and variables created within the function **only exist within the scope of the function!** So `meters` within the function definition is a *different variable* than `meters` which now holds `30.4`."
   ]
  },
  {
   "cell_type": "markdown",
   "metadata": {},
   "source": [
    "## 🥊 Challenge 1: My First Function\n",
    "\n",
    "Write a function that converts Celsius temperatures to Fahrenheit. It takes in an argument, which is expected to be a temperature in Celcius. The formula for the conversion is:\n",
    "\n",
    "$$F = 1.8 * C + 32$$\n",
    "\n",
    "You can name this function whatever you want. But it makes sense to name it something sensible!"
   ]
  },
  {
   "cell_type": "code",
   "execution_count": null,
   "metadata": {},
   "outputs": [],
   "source": [
    "# YOUR CODE HERE\n"
   ]
  },
  {
   "cell_type": "code",
   "execution_count": null,
   "metadata": {},
   "outputs": [],
   "source": [
    "# This is a very formal way of writing a function but it is useful for documentation and clarity.\n",
    "\n",
    "\n",
    "def celsius_to_fahrenheit(celsius):\n",
    "    \"\"\"\n",
    "    Convert Celsius temperature to Fahrenheit.\n",
    "    \n",
    "    Parameters:\n",
    "        celsius (float or int): Temperature in degrees Celsius.\n",
    "        \n",
    "    Returns:\n",
    "        float: Temperature in degrees Fahrenheit.\n",
    "    \"\"\"\n",
    "    fahrenheit = 1.8 * celsius + 32\n",
    "    return fahrenheit"
   ]
  },
  {
   "cell_type": "markdown",
   "metadata": {},
   "source": [
    "<a id='cond'></a>\n",
    "\n",
    "# Conditionals\n",
    "\n",
    "A fundamental structure in programming is the **conditional**. These blocks allow different blocks of code to run, *conditional* on specific things being true.\n",
    " \n",
    "## Conditionals: If-Statements\n",
    "\n",
    "The most widely used conditional is the **if-statement**. An if-statement controls whether some block of code is executed or not.\n",
    "\n",
    "*   The first line opens with the `if` keyword and contains an expression to be evaluated. It ends with a colon. \n",
    "*   The body of the if-statement is indented. It contains the code to execute **if the condition is met**. If it is not met, it will be skipped.\n",
    "\n",
    "Let's look at an example:"
   ]
  },
  {
   "cell_type": "code",
   "execution_count": null,
   "metadata": {},
   "outputs": [],
   "source": [
    "number = 105"
   ]
  },
  {
   "cell_type": "code",
   "execution_count": null,
   "metadata": {},
   "outputs": [],
   "source": [
    "# Body is executed\n",
    "if number > 100:\n",
    "    print(number, 'is greater than 100.')"
   ]
  },
  {
   "cell_type": "code",
   "execution_count": null,
   "metadata": {},
   "outputs": [],
   "source": [
    "# Body is not executed\n",
    "if number > 110:\n",
    "    print(number, 'is greater than 110.')"
   ]
  },
  {
   "cell_type": "markdown",
   "metadata": {},
   "source": [
    "## Conditionals: Else-statements\n",
    "\n",
    "Else-statements supplement if-statements. They allow us to specify an alternative block of code to run if the if-statement's conditional evaluates to `False`.\n",
    "\n",
    "🔔 **Question**: Look at the difference between the following cell and the previous if-statement. How will this else-statement affect the output?"
   ]
  },
  {
   "cell_type": "code",
   "execution_count": null,
   "metadata": {},
   "outputs": [],
   "source": [
    "number = 90\n",
    "\n",
    "if number > 100:\n",
    "    print(number, 'is greater than 100.')\n",
    "else:\n",
    "    print(number, 'is less than or equal to 100.')"
   ]
  },
  {
   "cell_type": "markdown",
   "metadata": {},
   "source": [
    "## Conditionals: Elif-statements\n",
    "\n",
    "In many cases, we may want to check several conditionals at the same time. **Else-if (Elif-)** statements allow us to specify as many conditional checks as we'd like in the same block.\n",
    "\n",
    "Elif-statements must follow an if-statement. They only are checked if the if-statement fails. Then, each elif-statement is checked, with their corresponding bodies run when the conditional evaluates to `True`.\n",
    "\n",
    "An else statement at the end can act as a \"catch all\", when the if statement and all following else-if statements fail.\n",
    "\n",
    "In Python, else if statements are indicated by the `elif` keyword."
   ]
  },
  {
   "cell_type": "markdown",
   "metadata": {},
   "source": [
    "## 🥊 Challenge 2: Fixing an Elif\n",
    "\n",
    "Consider the following conditional cell. Run the cell multiple times while changing the value that `number` holds, so that different conditions are met. \n",
    "\n",
    "For which numbers does the conditional not work properly? Could you think of a way to fix this?"
   ]
  },
  {
   "cell_type": "code",
   "execution_count": null,
   "metadata": {
    "tags": []
   },
   "outputs": [],
   "source": [
    "number = ...\n",
    "\n",
    "if number > 100:\n",
    "    print(number, 'is greater than 100.')\n",
    "elif number > 25:\n",
    "    print(number, 'is greater than 25 and less than or equal to 50.')\n",
    "elif number > 50:\n",
    "    print(number, 'is greater than 50 and less than or equal to 100.')\n",
    "else:\n",
    "    print(number, 'is less than or equal to 25.')"
   ]
  },
  {
   "cell_type": "markdown",
   "metadata": {},
   "source": [
    "<a id='bool'></a>\n",
    "\n",
    "# Booleans\n",
    "\n",
    "The if-statements we have been using are based on so-called **booleans**.\n",
    "\n",
    "Booleans are a fundamental data type in programming. Booleans are variables that are **binary**: they can either be `True` or `False` (written with capital letters).\n",
    "\n",
    "When we were running our if-statements, Python was determining which block of code should be executed based on the truth value of a condition. Booleans, in other words, allow for decision making.\n",
    "\n",
    "Booleans are also the result of so-called **comparison operators**, which are operators that compare two values. For example, equality is signaled in Python (and many other languages) by the double equals sign `==`. It's distinct from the assignment operator (single equals sign `=`) used in variable assignment. "
   ]
  },
  {
   "cell_type": "code",
   "execution_count": null,
   "metadata": {},
   "outputs": [],
   "source": [
    "1 == 2"
   ]
  },
  {
   "cell_type": "code",
   "execution_count": null,
   "metadata": {},
   "outputs": [],
   "source": [
    "1 == 1"
   ]
  },
  {
   "cell_type": "markdown",
   "metadata": {},
   "source": [
    "Other comparison operators include:"
   ]
  },
  {
   "cell_type": "code",
   "execution_count": null,
   "metadata": {},
   "outputs": [],
   "source": [
    "# Less than\n",
    "1 < 2"
   ]
  },
  {
   "cell_type": "code",
   "execution_count": null,
   "metadata": {},
   "outputs": [],
   "source": [
    "# Greater than\n",
    "1 > 2"
   ]
  },
  {
   "cell_type": "code",
   "execution_count": null,
   "metadata": {},
   "outputs": [],
   "source": [
    "# Unequal to\n",
    "1 != 2"
   ]
  },
  {
   "cell_type": "markdown",
   "metadata": {
    "jp-MarkdownHeadingCollapsed": true,
    "tags": []
   },
   "source": [
    "<div class=\"alert alert-success\">\n",
    "\n",
    "## ❗ Key Points\n",
    "\n",
    "* Booleans (`bool`) are binary variables: they can be either `True` or `False`.\n",
    "* \"Boolean masks\" are used when we apply comparison operators such as `==` in Pandas; they allow us to retrieve data based on some condition. \n",
    "* `if` and `else` statements allow us to control whether parts of our code are being run.\n",
    "* Writing a function in Python begins with the keyword `def`, followed by the function name, parameters in parentheses, and a colon.\n",
    "* Functions end with a `return` statement: this is the output value of the function.\n",
    "</div>"
   ]
  },
  {
   "cell_type": "markdown",
   "metadata": {},
   "source": []
  }
 ],
 "metadata": {
  "kernelspec": {
   "display_name": "dighum101",
   "language": "python",
   "name": "python3"
  },
  "language_info": {
   "codemirror_mode": {
    "name": "ipython",
    "version": 3
   },
   "file_extension": ".py",
   "mimetype": "text/x-python",
   "name": "python",
   "nbconvert_exporter": "python",
   "pygments_lexer": "ipython3",
   "version": "3.12.10"
  }
 },
 "nbformat": 4,
 "nbformat_minor": 4
}
