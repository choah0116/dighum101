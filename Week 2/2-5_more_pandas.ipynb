{
 "cells": [
  {
   "cell_type": "markdown",
   "metadata": {
    "tags": []
   },
   "source": [
    "# Python Fundamentals: Introduction to Pandas\n",
    "\n",
    "* * * \n",
    "\n",
    "<div class=\"alert alert-success\">  \n",
    "    \n",
    "### Learning Objectives \n",
    "    \n",
    "* Load .csv files into a Pandas `DataFrame`.\n",
    "* Understand that Pandas can be used for exploratory analysis.\n",
    "* Learn how to select columns and rows in a Pandas `DataFrame`.\n",
    "</div>\n",
    "\n",
    "\n",
    "### Icons Used in This Notebook\n",
    "🔔 **Question**: A quick question to help you understand what's going on.<br>\n",
    "🥊 **Challenge**: Interactive exercise. We'll work through these in the workshop!<br>\n",
    "💡 **Tip**: How to do something a bit more efficiently or effectively.<br>\n",
    "⚠️ **Warning:** Heads-up about tricky stuff or common mistakes.<br>\n",
    "📝 **Poll:** A Zoom poll to help you learn!<br>\n",
    "🎬 **Demo**: Showing off something more advanced – so you know what Python can be used for!<br>\n",
    "\n",
    "### Sections\n",
    "1. [Data Frames: Spreadsheets in Python](#df)\n",
    "2. [Selecting Columns](#columns)\n",
    "3. [Selecting Rows](#rows)\n",
    "4. [Demo: Grouping and Plotting Data Frames](#group)"
   ]
  },
  {
   "cell_type": "markdown",
   "metadata": {},
   "source": [
    "<a id='df'></a>\n",
    "\n",
    "# Data Frames: Spreadsheets in Python\n",
    "\n",
    "**Tabular data** is everywhere. Think of an Excel sheet: each column corresponds to a different feature of each datapoint, while rows correspond to different samples.\n",
    "\n",
    "In scientific programming, tabular data is often called a **data frame**. In Python, the `pandas` package contains an object called `DataFrame` that implements this data structure."
   ]
  },
  {
   "cell_type": "markdown",
   "metadata": {
    "tags": []
   },
   "source": [
    "## Importing Packages\n",
    "\n",
    "A **package** is a collection of code that someone else wrote and put in a sharable format. Usually it's designed to add specific functionalities to Python. The package we will use in this notebook is called Pandas.\n",
    "\n",
    "Before we can use a package like Pandas, we have to **import** it into the current session.\n",
    "Importing is done with the `import` keyword. We simply run `import [PACKAGE_NAME]`, and everything inside the package becomes available to use.\n",
    "\n",
    "For many packages, like `pandas`, we use an **alias**, or nickname, when importing them. This is just done to save some typing when we refer to the package in our code.\n",
    "\n",
    "Let's import the `pandas` module, and add the alias `pd`."
   ]
  },
  {
   "cell_type": "code",
   "execution_count": null,
   "metadata": {},
   "outputs": [],
   "source": [
    "import pandas as pd"
   ]
  },
  {
   "cell_type": "markdown",
   "metadata": {},
   "source": [
    "### `ImportError`\n",
    "\n",
    "If you encounter an `ImportError` when trying to import a package, it means that package has not been installed in your Python environment or is not accessible from your current environment. \n",
    "\n",
    "You can resolve this by using the command `!conda install package_name` directly within a Jupyter cell, replacing `package_name` with the name of the package you need. \n",
    "\n",
    "Why the exclamation mark `!`? It allows you to run **shell commands** from within a Jupyter Lab notebook. A **shell command** is a simple instruction you type to tell your computer to do something, like installing a program or managing files.In Jupyter Lab, you can use these instructions by starting with an exclamation mark `!` in a cell to make your computer do tasks, like installing a package."
   ]
  },
  {
   "cell_type": "code",
   "execution_count": null,
   "metadata": {},
   "outputs": [],
   "source": [
    "# Uncomment the following line to install pandas\n",
    "#!conda install pandas"
   ]
  },
  {
   "cell_type": "markdown",
   "metadata": {},
   "source": [
    "## 🥊 Challenge 1: From Dictionary to Data Frame\n",
    "\n",
    "You can easily build a data frame from a dictionary. However, the following code gives an error. Why does it have an error? \n",
    "\n",
    "💡 **Tip:** Google the line at the bottom of the error message if you need help!"
   ]
  },
  {
   "cell_type": "code",
   "execution_count": 1,
   "metadata": {},
   "outputs": [
    {
     "ename": "NameError",
     "evalue": "name 'pd' is not defined",
     "output_type": "error",
     "traceback": [
      "\u001b[31m---------------------------------------------------------------------------\u001b[39m",
      "\u001b[31mNameError\u001b[39m                                 Traceback (most recent call last)",
      "\u001b[36mCell\u001b[39m\u001b[36m \u001b[39m\u001b[32mIn[1]\u001b[39m\u001b[32m, line 10\u001b[39m\n\u001b[32m      3\u001b[39m life_exp = [\u001b[32m28\u001b[39m, \u001b[32m76\u001b[39m, \u001b[32m46\u001b[39m]\n\u001b[32m      5\u001b[39m country_dict = {\n\u001b[32m      6\u001b[39m     \u001b[33m'\u001b[39m\u001b[33mcountry\u001b[39m\u001b[33m'\u001b[39m: country,\n\u001b[32m      7\u001b[39m     \u001b[33m'\u001b[39m\u001b[33mcontinent\u001b[39m\u001b[33m'\u001b[39m: continent,\n\u001b[32m      8\u001b[39m     \u001b[33m'\u001b[39m\u001b[33mlife_exp\u001b[39m\u001b[33m'\u001b[39m: life_exp}\n\u001b[32m---> \u001b[39m\u001b[32m10\u001b[39m \u001b[43mpd\u001b[49m.DataFrame(country_dict)\n",
      "\u001b[31mNameError\u001b[39m: name 'pd' is not defined"
     ]
    }
   ],
   "source": [
    "country = ['Afghanistan', 'Greece']\n",
    "continent = ['Asia', 'Europe', 'Africa']\n",
    "life_exp = [28, 76, 46]\n",
    "\n",
    "country_dict = {\n",
    "    'country': country,\n",
    "    'continent': continent,\n",
    "    'life_exp': life_exp}\n",
    "\n",
    "pd.DataFrame(country_dict)"
   ]
  },
  {
   "cell_type": "code",
   "execution_count": 3,
   "metadata": {},
   "outputs": [],
   "source": [
    "import pandas as pd"
   ]
  },
  {
   "cell_type": "markdown",
   "metadata": {},
   "source": [
    "## Our Data\n",
    "\n",
    "For the rest of this workshop we will work with a dataset from [Gapminder](https://en.wikipedia.org/wiki/Gapminder_Foundation). The dataset contains data for 142 countries, with values for life expectancy, GDP per capita, and population, every five years, from 1952 to 2007."
   ]
  },
  {
   "cell_type": "markdown",
   "metadata": {},
   "source": [
    "## Reading CSV Files"
   ]
  },
  {
   "cell_type": "markdown",
   "metadata": {},
   "source": [
    "In the cell below, we use the `read_csv()` method, which takes a string as its main argument. This string consists of a **relative file path** pointing to the file. It is **relative** because we are referring to the location of the file in relation to the current working directory, rather than using an absolute path that specifies the entire directory structure from the root.\n",
    "\n",
    "💡 **Tip:** a directory is also called a folder.\n",
    "\n",
    "* `../` means \"go up one folder from where this notebook is\" -- which is the \"lessons\" folder.\n",
    "* `Data/` means 'go into a folder called \"data\".\n",
    "* `gapminder.csv` is the file name we are accessing within that \"data\" folder."
   ]
  },
  {
   "cell_type": "markdown",
   "metadata": {},
   "source": [
    "<img src=\"../img/filetree.png\" alt=\"Navigating File Tree\" width=\"500\"/>"
   ]
  },
  {
   "cell_type": "markdown",
   "metadata": {},
   "source": [
    "💡 **Tip:** When dealing with file paths, especially in complex directory structures, remember that relative paths like `../folder_name` only take you up one directory level at a time. If you need to traverse multiple levels, you can chain these commands together (e.g., `../../folder_name` to go up two levels). \n",
    "\n",
    "Additionally, if your path requires navigating through several folders, consider using an **absolute path** from the home folder (`~/`), or a well-defined environment variable that points to a common base folder. This approach reduces errors and makes your code more portable across different systems."
   ]
  },
  {
   "cell_type": "code",
   "execution_count": 5,
   "metadata": {},
   "outputs": [],
   "source": [
    "df = pd.read_csv('../Data/gapminder.csv')"
   ]
  },
  {
   "cell_type": "markdown",
   "metadata": {},
   "source": [
    "The `.head()` method will show the first five rows of a Data Frame by default. \n",
    "\n",
    "💡 **Tip**: Put an integer in between the parentheses to specify a different number of rows. "
   ]
  },
  {
   "cell_type": "code",
   "execution_count": 6,
   "metadata": {},
   "outputs": [
    {
     "data": {
      "application/vnd.microsoft.datawrangler.viewer.v0+json": {
       "columns": [
        {
         "name": "index",
         "rawType": "int64",
         "type": "integer"
        },
        {
         "name": "country",
         "rawType": "object",
         "type": "string"
        },
        {
         "name": "year",
         "rawType": "int64",
         "type": "integer"
        },
        {
         "name": "pop",
         "rawType": "float64",
         "type": "float"
        },
        {
         "name": "continent",
         "rawType": "object",
         "type": "string"
        },
        {
         "name": "lifeExp",
         "rawType": "float64",
         "type": "float"
        },
        {
         "name": "gdpPercap",
         "rawType": "float64",
         "type": "float"
        }
       ],
       "ref": "e5f8ee23-be43-4855-9bae-54849e55675b",
       "rows": [
        [
         "0",
         "Afghanistan",
         "1952",
         "8425333.0",
         "Asia",
         "28.801",
         "779.4453145"
        ],
        [
         "1",
         "Afghanistan",
         "1957",
         "9240934.0",
         "Asia",
         "30.332",
         "820.8530296"
        ],
        [
         "2",
         "Afghanistan",
         "1962",
         "10267083.0",
         "Asia",
         "31.997",
         "853.10071"
        ],
        [
         "3",
         "Afghanistan",
         "1967",
         "11537966.0",
         "Asia",
         "34.02",
         "836.1971382"
        ],
        [
         "4",
         "Afghanistan",
         "1972",
         "13079460.0",
         "Asia",
         "36.088",
         "739.9811058"
        ]
       ],
       "shape": {
        "columns": 6,
        "rows": 5
       }
      },
      "text/html": [
       "<div>\n",
       "<style scoped>\n",
       "    .dataframe tbody tr th:only-of-type {\n",
       "        vertical-align: middle;\n",
       "    }\n",
       "\n",
       "    .dataframe tbody tr th {\n",
       "        vertical-align: top;\n",
       "    }\n",
       "\n",
       "    .dataframe thead th {\n",
       "        text-align: right;\n",
       "    }\n",
       "</style>\n",
       "<table border=\"1\" class=\"dataframe\">\n",
       "  <thead>\n",
       "    <tr style=\"text-align: right;\">\n",
       "      <th></th>\n",
       "      <th>country</th>\n",
       "      <th>year</th>\n",
       "      <th>pop</th>\n",
       "      <th>continent</th>\n",
       "      <th>lifeExp</th>\n",
       "      <th>gdpPercap</th>\n",
       "    </tr>\n",
       "  </thead>\n",
       "  <tbody>\n",
       "    <tr>\n",
       "      <th>0</th>\n",
       "      <td>Afghanistan</td>\n",
       "      <td>1952</td>\n",
       "      <td>8425333.0</td>\n",
       "      <td>Asia</td>\n",
       "      <td>28.801</td>\n",
       "      <td>779.445314</td>\n",
       "    </tr>\n",
       "    <tr>\n",
       "      <th>1</th>\n",
       "      <td>Afghanistan</td>\n",
       "      <td>1957</td>\n",
       "      <td>9240934.0</td>\n",
       "      <td>Asia</td>\n",
       "      <td>30.332</td>\n",
       "      <td>820.853030</td>\n",
       "    </tr>\n",
       "    <tr>\n",
       "      <th>2</th>\n",
       "      <td>Afghanistan</td>\n",
       "      <td>1962</td>\n",
       "      <td>10267083.0</td>\n",
       "      <td>Asia</td>\n",
       "      <td>31.997</td>\n",
       "      <td>853.100710</td>\n",
       "    </tr>\n",
       "    <tr>\n",
       "      <th>3</th>\n",
       "      <td>Afghanistan</td>\n",
       "      <td>1967</td>\n",
       "      <td>11537966.0</td>\n",
       "      <td>Asia</td>\n",
       "      <td>34.020</td>\n",
       "      <td>836.197138</td>\n",
       "    </tr>\n",
       "    <tr>\n",
       "      <th>4</th>\n",
       "      <td>Afghanistan</td>\n",
       "      <td>1972</td>\n",
       "      <td>13079460.0</td>\n",
       "      <td>Asia</td>\n",
       "      <td>36.088</td>\n",
       "      <td>739.981106</td>\n",
       "    </tr>\n",
       "  </tbody>\n",
       "</table>\n",
       "</div>"
      ],
      "text/plain": [
       "       country  year         pop continent  lifeExp   gdpPercap\n",
       "0  Afghanistan  1952   8425333.0      Asia   28.801  779.445314\n",
       "1  Afghanistan  1957   9240934.0      Asia   30.332  820.853030\n",
       "2  Afghanistan  1962  10267083.0      Asia   31.997  853.100710\n",
       "3  Afghanistan  1967  11537966.0      Asia   34.020  836.197138\n",
       "4  Afghanistan  1972  13079460.0      Asia   36.088  739.981106"
      ]
     },
     "execution_count": 6,
     "metadata": {},
     "output_type": "execute_result"
    }
   ],
   "source": [
    "df.head()"
   ]
  },
  {
   "cell_type": "markdown",
   "metadata": {},
   "source": [
    "### More on .csv Files\n",
    "As data scientists, we'll often be working with these **Comma Seperated Values (.csv)** files. \n",
    "\n",
    "Comma separated values files are common because they are relatively small and look good in spreadsheet software. A comma separated values file is just a text file that contains data but that has commas (or other separators) to indicate column breaks.\n",
    "\n",
    "As you see, `pandas` comes with a function [`read_csv()`](https://pandas.pydata.org/docs/reference/api/pandas.read_csv.html)\n",
    "that makes it really easy to import .csv files.\n",
    "\n",
    "Let's have a look at our .csv file in our browser!"
   ]
  },
  {
   "cell_type": "markdown",
   "metadata": {
    "tags": []
   },
   "source": [
    "<a id='columns'></a>\n",
    "\n",
    "# Selecting Columns\n",
    "Now that we have our `DataFrame`, we can select a single column by selecting the name of that column. This uses bracket notation (like we do when accessing lists).\n",
    "\n",
    "Check it out:"
   ]
  },
  {
   "cell_type": "code",
   "execution_count": 7,
   "metadata": {},
   "outputs": [
    {
     "data": {
      "application/vnd.microsoft.datawrangler.viewer.v0+json": {
       "columns": [
        {
         "name": "index",
         "rawType": "int64",
         "type": "integer"
        },
        {
         "name": "country",
         "rawType": "object",
         "type": "string"
        }
       ],
       "ref": "b707403b-b300-45c5-93af-e43fcfcd7f24",
       "rows": [
        [
         "0",
         "Afghanistan"
        ],
        [
         "1",
         "Afghanistan"
        ],
        [
         "2",
         "Afghanistan"
        ],
        [
         "3",
         "Afghanistan"
        ],
        [
         "4",
         "Afghanistan"
        ],
        [
         "5",
         "Afghanistan"
        ],
        [
         "6",
         "Afghanistan"
        ],
        [
         "7",
         "Afghanistan"
        ],
        [
         "8",
         "Afghanistan"
        ],
        [
         "9",
         "Afghanistan"
        ],
        [
         "10",
         "Afghanistan"
        ],
        [
         "11",
         "Afghanistan"
        ],
        [
         "12",
         "Albania"
        ],
        [
         "13",
         "Albania"
        ],
        [
         "14",
         "Albania"
        ],
        [
         "15",
         "Albania"
        ],
        [
         "16",
         "Albania"
        ],
        [
         "17",
         "Albania"
        ],
        [
         "18",
         "Albania"
        ],
        [
         "19",
         "Albania"
        ],
        [
         "20",
         "Albania"
        ],
        [
         "21",
         "Albania"
        ],
        [
         "22",
         "Albania"
        ],
        [
         "23",
         "Albania"
        ],
        [
         "24",
         "Algeria"
        ],
        [
         "25",
         "Algeria"
        ],
        [
         "26",
         "Algeria"
        ],
        [
         "27",
         "Algeria"
        ],
        [
         "28",
         "Algeria"
        ],
        [
         "29",
         "Algeria"
        ],
        [
         "30",
         "Algeria"
        ],
        [
         "31",
         "Algeria"
        ],
        [
         "32",
         "Algeria"
        ],
        [
         "33",
         "Algeria"
        ],
        [
         "34",
         "Algeria"
        ],
        [
         "35",
         "Algeria"
        ],
        [
         "36",
         "Angola"
        ],
        [
         "37",
         "Angola"
        ],
        [
         "38",
         "Angola"
        ],
        [
         "39",
         "Angola"
        ],
        [
         "40",
         "Angola"
        ],
        [
         "41",
         "Angola"
        ],
        [
         "42",
         "Angola"
        ],
        [
         "43",
         "Angola"
        ],
        [
         "44",
         "Angola"
        ],
        [
         "45",
         "Angola"
        ],
        [
         "46",
         "Angola"
        ],
        [
         "47",
         "Angola"
        ],
        [
         "48",
         "Argentina"
        ],
        [
         "49",
         "Argentina"
        ]
       ],
       "shape": {
        "columns": 1,
        "rows": 1704
       }
      },
      "text/plain": [
       "0       Afghanistan\n",
       "1       Afghanistan\n",
       "2       Afghanistan\n",
       "3       Afghanistan\n",
       "4       Afghanistan\n",
       "           ...     \n",
       "1699       Zimbabwe\n",
       "1700       Zimbabwe\n",
       "1701       Zimbabwe\n",
       "1702       Zimbabwe\n",
       "1703       Zimbabwe\n",
       "Name: country, Length: 1704, dtype: object"
      ]
     },
     "execution_count": 7,
     "metadata": {},
     "output_type": "execute_result"
    }
   ],
   "source": [
    "df['country']"
   ]
  },
  {
   "cell_type": "markdown",
   "metadata": {},
   "source": [
    "The data type of this column is a `Series`. It's like a list. You can index a `Series` object just like you can with a list!"
   ]
  },
  {
   "cell_type": "code",
   "execution_count": 8,
   "metadata": {},
   "outputs": [
    {
     "data": {
      "text/plain": [
       "'Afghanistan'"
      ]
     },
     "execution_count": 8,
     "metadata": {},
     "output_type": "execute_result"
    }
   ],
   "source": [
    "gap_country = df['country']\n",
    "gap_country[0]"
   ]
  },
  {
   "cell_type": "markdown",
   "metadata": {},
   "source": [
    "## Using Methods on Columns\n",
    "\n",
    "`DataFrame` objects come with their own methods, many of which operate on a single column of the DataFrame. \n",
    "\n",
    "For example, we can identify the number of unique values in each column by using the `nunique()` method:"
   ]
  },
  {
   "cell_type": "code",
   "execution_count": 9,
   "metadata": {},
   "outputs": [
    {
     "data": {
      "text/plain": [
       "12"
      ]
     },
     "execution_count": 9,
     "metadata": {},
     "output_type": "execute_result"
    }
   ],
   "source": [
    "df['year'].nunique()"
   ]
  },
  {
   "cell_type": "markdown",
   "metadata": {},
   "source": [
    "Usually, a package provides **documentation** that explains all of its functionalities. Let's have a look at the documentation for a method called `value_counts()` [online](https://pandas.pydata.org/pandas-docs/stable/reference/api/pandas.Series.value_counts.html). \n",
    "\n",
    "🔔 **Question**: What does `value_counts()` do in the code below?"
   ]
  },
  {
   "cell_type": "code",
   "execution_count": 10,
   "metadata": {
    "tags": []
   },
   "outputs": [
    {
     "data": {
      "application/vnd.microsoft.datawrangler.viewer.v0+json": {
       "columns": [
        {
         "name": "year",
         "rawType": "int64",
         "type": "integer"
        },
        {
         "name": "count",
         "rawType": "int64",
         "type": "integer"
        }
       ],
       "ref": "239ce191-5820-4173-aaa4-7abf6aba706c",
       "rows": [
        [
         "1952",
         "142"
        ],
        [
         "1957",
         "142"
        ],
        [
         "1962",
         "142"
        ],
        [
         "1967",
         "142"
        ],
        [
         "1972",
         "142"
        ],
        [
         "1977",
         "142"
        ],
        [
         "1982",
         "142"
        ],
        [
         "1987",
         "142"
        ],
        [
         "1992",
         "142"
        ],
        [
         "1997",
         "142"
        ],
        [
         "2002",
         "142"
        ],
        [
         "2007",
         "142"
        ]
       ],
       "shape": {
        "columns": 1,
        "rows": 12
       }
      },
      "text/plain": [
       "year\n",
       "1952    142\n",
       "1957    142\n",
       "1962    142\n",
       "1967    142\n",
       "1972    142\n",
       "1977    142\n",
       "1982    142\n",
       "1987    142\n",
       "1992    142\n",
       "1997    142\n",
       "2002    142\n",
       "2007    142\n",
       "Name: count, dtype: int64"
      ]
     },
     "execution_count": 10,
     "metadata": {},
     "output_type": "execute_result"
    }
   ],
   "source": [
    "df['year'].value_counts()"
   ]
  },
  {
   "cell_type": "markdown",
   "metadata": {},
   "source": [
    "## 🥊 Challenge 2: Putting Methods in Order\n",
    "\n",
    "In the following code we want to to find the top-3 most frequently occurring continents in our data. Put the following code fragments in the right order to get this information!"
   ]
  },
  {
   "cell_type": "code",
   "execution_count": null,
   "metadata": {},
   "outputs": [],
   "source": [
    ".head(3)\n",
    ".value_counts()\n",
    "df['continent']"
   ]
  },
  {
   "cell_type": "code",
   "execution_count": 14,
   "metadata": {},
   "outputs": [
    {
     "data": {
      "application/vnd.microsoft.datawrangler.viewer.v0+json": {
       "columns": [
        {
         "name": "continent",
         "rawType": "object",
         "type": "string"
        },
        {
         "name": "count",
         "rawType": "int64",
         "type": "integer"
        }
       ],
       "ref": "81956353-0700-48e2-98ba-e427f2efa7b0",
       "rows": [
        [
         "Africa",
         "624"
        ],
        [
         "Asia",
         "396"
        ],
        [
         "Europe",
         "360"
        ]
       ],
       "shape": {
        "columns": 1,
        "rows": 3
       }
      },
      "text/plain": [
       "continent\n",
       "Africa    624\n",
       "Asia      396\n",
       "Europe    360\n",
       "Name: count, dtype: int64"
      ]
     },
     "execution_count": 14,
     "metadata": {},
     "output_type": "execute_result"
    }
   ],
   "source": [
    "# First we get the count of unique values in the 'continent' column and then we get the top 3\n",
    "\n",
    "df['continent'].value_counts().head(3)"
   ]
  },
  {
   "cell_type": "code",
   "execution_count": 13,
   "metadata": {},
   "outputs": [
    {
     "data": {
      "application/vnd.microsoft.datawrangler.viewer.v0+json": {
       "columns": [
        {
         "name": "continent",
         "rawType": "object",
         "type": "string"
        },
        {
         "name": "count",
         "rawType": "int64",
         "type": "integer"
        }
       ],
       "ref": "bfe1914b-866a-4fef-8624-aedc1be0f1a4",
       "rows": [
        [
         "Asia",
         "3"
        ]
       ],
       "shape": {
        "columns": 1,
        "rows": 1
       }
      },
      "text/plain": [
       "continent\n",
       "Asia    3\n",
       "Name: count, dtype: int64"
      ]
     },
     "execution_count": 13,
     "metadata": {},
     "output_type": "execute_result"
    }
   ],
   "source": [
    "# Why not this?\n",
    "\n",
    "df['continent'].head(3).value_counts()"
   ]
  },
  {
   "cell_type": "markdown",
   "metadata": {},
   "source": [
    "## Attributes \n",
    "\n",
    "Packages like Pandas don't only come with methods, but also with so-called **attributes**.\n",
    "\n",
    "Attributes are like variables: they give you more information about the data that you have. Methods are like functions: they allow you to do something with data.\n",
    "\n",
    "For instance, we can easily check the column names of our data frame using the `columns` **attribute**."
   ]
  },
  {
   "cell_type": "code",
   "execution_count": null,
   "metadata": {},
   "outputs": [],
   "source": [
    "df.columns"
   ]
  },
  {
   "cell_type": "markdown",
   "metadata": {},
   "source": [
    "🔔 **Question**: Here's another popular attribute: `shape`. What do you think it does?"
   ]
  },
  {
   "cell_type": "code",
   "execution_count": null,
   "metadata": {},
   "outputs": [],
   "source": [
    "df.shape"
   ]
  },
  {
   "cell_type": "markdown",
   "metadata": {},
   "source": [
    "## Jupyter Autocomplete\n",
    "\n",
    "Jupyter Notebooks allow for tab completion, just like many text editors. If you begin typing the name of something (such as a variable) that already exists, you can simply hit **Tab** and Jupyter will autocomplete it for you. If there is more than one possibility, it will show them to you and you can choose from there. "
   ]
  },
  {
   "cell_type": "markdown",
   "metadata": {},
   "source": [
    "🔔 **Question:** Below we are selecting a column in our `DataFrame`. See what happens when you hit `TAB`! What are you seeing?"
   ]
  },
  {
   "cell_type": "code",
   "execution_count": null,
   "metadata": {},
   "outputs": [],
   "source": [
    "# YOUR CODE HERE\n",
    "\n",
    "df['continent']."
   ]
  },
  {
   "cell_type": "markdown",
   "metadata": {},
   "source": [
    "<a id='rows'></a>\n",
    "\n",
    "# Selecting Rows\n",
    "\n",
    "What if we wanted to get some rows in our dataset based on some condition? For example, what if we just wanted a select only the rows for which the country is Egypt? Or only rows from a particular year?\n",
    "\n",
    "We can use so-called **value comparison operators** for this. For instance, to get only the rows that include data points from Egypt, we can use `==`."
   ]
  },
  {
   "cell_type": "code",
   "execution_count": 15,
   "metadata": {},
   "outputs": [
    {
     "data": {
      "application/vnd.microsoft.datawrangler.viewer.v0+json": {
       "columns": [
        {
         "name": "index",
         "rawType": "int64",
         "type": "integer"
        },
        {
         "name": "country",
         "rawType": "bool",
         "type": "boolean"
        }
       ],
       "ref": "f2791c9c-813f-4a8e-ab55-aa4f3a1d0f6b",
       "rows": [
        [
         "0",
         "False"
        ],
        [
         "1",
         "False"
        ],
        [
         "2",
         "False"
        ],
        [
         "3",
         "False"
        ],
        [
         "4",
         "False"
        ],
        [
         "5",
         "False"
        ],
        [
         "6",
         "False"
        ],
        [
         "7",
         "False"
        ],
        [
         "8",
         "False"
        ],
        [
         "9",
         "False"
        ],
        [
         "10",
         "False"
        ],
        [
         "11",
         "False"
        ],
        [
         "12",
         "False"
        ],
        [
         "13",
         "False"
        ],
        [
         "14",
         "False"
        ],
        [
         "15",
         "False"
        ],
        [
         "16",
         "False"
        ],
        [
         "17",
         "False"
        ],
        [
         "18",
         "False"
        ],
        [
         "19",
         "False"
        ],
        [
         "20",
         "False"
        ],
        [
         "21",
         "False"
        ],
        [
         "22",
         "False"
        ],
        [
         "23",
         "False"
        ],
        [
         "24",
         "False"
        ],
        [
         "25",
         "False"
        ],
        [
         "26",
         "False"
        ],
        [
         "27",
         "False"
        ],
        [
         "28",
         "False"
        ],
        [
         "29",
         "False"
        ],
        [
         "30",
         "False"
        ],
        [
         "31",
         "False"
        ],
        [
         "32",
         "False"
        ],
        [
         "33",
         "False"
        ],
        [
         "34",
         "False"
        ],
        [
         "35",
         "False"
        ],
        [
         "36",
         "False"
        ],
        [
         "37",
         "False"
        ],
        [
         "38",
         "False"
        ],
        [
         "39",
         "False"
        ],
        [
         "40",
         "False"
        ],
        [
         "41",
         "False"
        ],
        [
         "42",
         "False"
        ],
        [
         "43",
         "False"
        ],
        [
         "44",
         "False"
        ],
        [
         "45",
         "False"
        ],
        [
         "46",
         "False"
        ],
        [
         "47",
         "False"
        ],
        [
         "48",
         "False"
        ],
        [
         "49",
         "False"
        ]
       ],
       "shape": {
        "columns": 1,
        "rows": 1704
       }
      },
      "text/plain": [
       "0       False\n",
       "1       False\n",
       "2       False\n",
       "3       False\n",
       "4       False\n",
       "        ...  \n",
       "1699    False\n",
       "1700    False\n",
       "1701    False\n",
       "1702    False\n",
       "1703    False\n",
       "Name: country, Length: 1704, dtype: bool"
      ]
     },
     "execution_count": 15,
     "metadata": {},
     "output_type": "execute_result"
    }
   ],
   "source": [
    "df['country'] == 'Egypt'"
   ]
  },
  {
   "cell_type": "markdown",
   "metadata": {},
   "source": [
    "💡 **Tip**: Fancy terminology alert: the above Series is called a **Boolean mask**. It's like a list of True/False labels that we can use to filter our Data Frame for a certain condition! We'll cover this further in Python Intermediate.\n",
    "\n",
    "Here, we create a subset of our Data Frame with the fancy Boolean mask we just created. "
   ]
  },
  {
   "cell_type": "code",
   "execution_count": 16,
   "metadata": {},
   "outputs": [
    {
     "data": {
      "application/vnd.microsoft.datawrangler.viewer.v0+json": {
       "columns": [
        {
         "name": "index",
         "rawType": "int64",
         "type": "integer"
        },
        {
         "name": "country",
         "rawType": "object",
         "type": "string"
        },
        {
         "name": "year",
         "rawType": "int64",
         "type": "integer"
        },
        {
         "name": "pop",
         "rawType": "float64",
         "type": "float"
        },
        {
         "name": "continent",
         "rawType": "object",
         "type": "string"
        },
        {
         "name": "lifeExp",
         "rawType": "float64",
         "type": "float"
        },
        {
         "name": "gdpPercap",
         "rawType": "float64",
         "type": "float"
        }
       ],
       "ref": "48356f9c-e7c2-4753-a87a-63602a2628e9",
       "rows": [
        [
         "456",
         "Egypt",
         "1952",
         "22223309.0",
         "Africa",
         "41.893",
         "1418.822445"
        ],
        [
         "457",
         "Egypt",
         "1957",
         "25009741.0",
         "Africa",
         "44.444",
         "1458.915272"
        ],
        [
         "458",
         "Egypt",
         "1962",
         "28173309.0",
         "Africa",
         "46.992",
         "1693.335853"
        ],
        [
         "459",
         "Egypt",
         "1967",
         "31681188.0",
         "Africa",
         "49.293",
         "1814.880728"
        ],
        [
         "460",
         "Egypt",
         "1972",
         "34807417.0",
         "Africa",
         "51.137",
         "2024.008147"
        ],
        [
         "461",
         "Egypt",
         "1977",
         "38783863.0",
         "Africa",
         "53.319",
         "2785.493582"
        ],
        [
         "462",
         "Egypt",
         "1982",
         "45681811.0",
         "Africa",
         "56.006",
         "3503.729636"
        ],
        [
         "463",
         "Egypt",
         "1987",
         "52799062.0",
         "Africa",
         "59.797",
         "3885.46071"
        ],
        [
         "464",
         "Egypt",
         "1992",
         "59402198.0",
         "Africa",
         "63.674",
         "3794.755195"
        ],
        [
         "465",
         "Egypt",
         "1997",
         "66134291.0",
         "Africa",
         "67.217",
         "4173.181797"
        ],
        [
         "466",
         "Egypt",
         "2002",
         "73312559.0",
         "Africa",
         "69.806",
         "4754.604414"
        ],
        [
         "467",
         "Egypt",
         "2007",
         "80264543.0",
         "Africa",
         "71.338",
         "5581.180998"
        ]
       ],
       "shape": {
        "columns": 6,
        "rows": 12
       }
      },
      "text/html": [
       "<div>\n",
       "<style scoped>\n",
       "    .dataframe tbody tr th:only-of-type {\n",
       "        vertical-align: middle;\n",
       "    }\n",
       "\n",
       "    .dataframe tbody tr th {\n",
       "        vertical-align: top;\n",
       "    }\n",
       "\n",
       "    .dataframe thead th {\n",
       "        text-align: right;\n",
       "    }\n",
       "</style>\n",
       "<table border=\"1\" class=\"dataframe\">\n",
       "  <thead>\n",
       "    <tr style=\"text-align: right;\">\n",
       "      <th></th>\n",
       "      <th>country</th>\n",
       "      <th>year</th>\n",
       "      <th>pop</th>\n",
       "      <th>continent</th>\n",
       "      <th>lifeExp</th>\n",
       "      <th>gdpPercap</th>\n",
       "    </tr>\n",
       "  </thead>\n",
       "  <tbody>\n",
       "    <tr>\n",
       "      <th>456</th>\n",
       "      <td>Egypt</td>\n",
       "      <td>1952</td>\n",
       "      <td>22223309.0</td>\n",
       "      <td>Africa</td>\n",
       "      <td>41.893</td>\n",
       "      <td>1418.822445</td>\n",
       "    </tr>\n",
       "    <tr>\n",
       "      <th>457</th>\n",
       "      <td>Egypt</td>\n",
       "      <td>1957</td>\n",
       "      <td>25009741.0</td>\n",
       "      <td>Africa</td>\n",
       "      <td>44.444</td>\n",
       "      <td>1458.915272</td>\n",
       "    </tr>\n",
       "    <tr>\n",
       "      <th>458</th>\n",
       "      <td>Egypt</td>\n",
       "      <td>1962</td>\n",
       "      <td>28173309.0</td>\n",
       "      <td>Africa</td>\n",
       "      <td>46.992</td>\n",
       "      <td>1693.335853</td>\n",
       "    </tr>\n",
       "    <tr>\n",
       "      <th>459</th>\n",
       "      <td>Egypt</td>\n",
       "      <td>1967</td>\n",
       "      <td>31681188.0</td>\n",
       "      <td>Africa</td>\n",
       "      <td>49.293</td>\n",
       "      <td>1814.880728</td>\n",
       "    </tr>\n",
       "    <tr>\n",
       "      <th>460</th>\n",
       "      <td>Egypt</td>\n",
       "      <td>1972</td>\n",
       "      <td>34807417.0</td>\n",
       "      <td>Africa</td>\n",
       "      <td>51.137</td>\n",
       "      <td>2024.008147</td>\n",
       "    </tr>\n",
       "    <tr>\n",
       "      <th>461</th>\n",
       "      <td>Egypt</td>\n",
       "      <td>1977</td>\n",
       "      <td>38783863.0</td>\n",
       "      <td>Africa</td>\n",
       "      <td>53.319</td>\n",
       "      <td>2785.493582</td>\n",
       "    </tr>\n",
       "    <tr>\n",
       "      <th>462</th>\n",
       "      <td>Egypt</td>\n",
       "      <td>1982</td>\n",
       "      <td>45681811.0</td>\n",
       "      <td>Africa</td>\n",
       "      <td>56.006</td>\n",
       "      <td>3503.729636</td>\n",
       "    </tr>\n",
       "    <tr>\n",
       "      <th>463</th>\n",
       "      <td>Egypt</td>\n",
       "      <td>1987</td>\n",
       "      <td>52799062.0</td>\n",
       "      <td>Africa</td>\n",
       "      <td>59.797</td>\n",
       "      <td>3885.460710</td>\n",
       "    </tr>\n",
       "    <tr>\n",
       "      <th>464</th>\n",
       "      <td>Egypt</td>\n",
       "      <td>1992</td>\n",
       "      <td>59402198.0</td>\n",
       "      <td>Africa</td>\n",
       "      <td>63.674</td>\n",
       "      <td>3794.755195</td>\n",
       "    </tr>\n",
       "    <tr>\n",
       "      <th>465</th>\n",
       "      <td>Egypt</td>\n",
       "      <td>1997</td>\n",
       "      <td>66134291.0</td>\n",
       "      <td>Africa</td>\n",
       "      <td>67.217</td>\n",
       "      <td>4173.181797</td>\n",
       "    </tr>\n",
       "    <tr>\n",
       "      <th>466</th>\n",
       "      <td>Egypt</td>\n",
       "      <td>2002</td>\n",
       "      <td>73312559.0</td>\n",
       "      <td>Africa</td>\n",
       "      <td>69.806</td>\n",
       "      <td>4754.604414</td>\n",
       "    </tr>\n",
       "    <tr>\n",
       "      <th>467</th>\n",
       "      <td>Egypt</td>\n",
       "      <td>2007</td>\n",
       "      <td>80264543.0</td>\n",
       "      <td>Africa</td>\n",
       "      <td>71.338</td>\n",
       "      <td>5581.180998</td>\n",
       "    </tr>\n",
       "  </tbody>\n",
       "</table>\n",
       "</div>"
      ],
      "text/plain": [
       "    country  year         pop continent  lifeExp    gdpPercap\n",
       "456   Egypt  1952  22223309.0    Africa   41.893  1418.822445\n",
       "457   Egypt  1957  25009741.0    Africa   44.444  1458.915272\n",
       "458   Egypt  1962  28173309.0    Africa   46.992  1693.335853\n",
       "459   Egypt  1967  31681188.0    Africa   49.293  1814.880728\n",
       "460   Egypt  1972  34807417.0    Africa   51.137  2024.008147\n",
       "461   Egypt  1977  38783863.0    Africa   53.319  2785.493582\n",
       "462   Egypt  1982  45681811.0    Africa   56.006  3503.729636\n",
       "463   Egypt  1987  52799062.0    Africa   59.797  3885.460710\n",
       "464   Egypt  1992  59402198.0    Africa   63.674  3794.755195\n",
       "465   Egypt  1997  66134291.0    Africa   67.217  4173.181797\n",
       "466   Egypt  2002  73312559.0    Africa   69.806  4754.604414\n",
       "467   Egypt  2007  80264543.0    Africa   71.338  5581.180998"
      ]
     },
     "execution_count": 16,
     "metadata": {},
     "output_type": "execute_result"
    }
   ],
   "source": [
    "# Getting only the data points from Egypt\n",
    "df[df['country'] == 'Egypt']"
   ]
  },
  {
   "cell_type": "markdown",
   "metadata": {},
   "source": [
    "Note that the output of this operation is a **new data frame**! We can assign it to a new variable so we can work with this subsetted data frame. Let's do it again:"
   ]
  },
  {
   "cell_type": "code",
   "execution_count": 17,
   "metadata": {},
   "outputs": [
    {
     "data": {
      "application/vnd.microsoft.datawrangler.viewer.v0+json": {
       "columns": [
        {
         "name": "index",
         "rawType": "int64",
         "type": "integer"
        },
        {
         "name": "country",
         "rawType": "object",
         "type": "string"
        },
        {
         "name": "year",
         "rawType": "int64",
         "type": "integer"
        },
        {
         "name": "pop",
         "rawType": "float64",
         "type": "float"
        },
        {
         "name": "continent",
         "rawType": "object",
         "type": "string"
        },
        {
         "name": "lifeExp",
         "rawType": "float64",
         "type": "float"
        },
        {
         "name": "gdpPercap",
         "rawType": "float64",
         "type": "float"
        }
       ],
       "ref": "800bdf4c-85b8-4e1d-9f3f-1b857d2bebd8",
       "rows": [
        [
         "456",
         "Egypt",
         "1952",
         "22223309.0",
         "Africa",
         "41.893",
         "1418.822445"
        ],
        [
         "457",
         "Egypt",
         "1957",
         "25009741.0",
         "Africa",
         "44.444",
         "1458.915272"
        ],
        [
         "458",
         "Egypt",
         "1962",
         "28173309.0",
         "Africa",
         "46.992",
         "1693.335853"
        ],
        [
         "459",
         "Egypt",
         "1967",
         "31681188.0",
         "Africa",
         "49.293",
         "1814.880728"
        ],
        [
         "460",
         "Egypt",
         "1972",
         "34807417.0",
         "Africa",
         "51.137",
         "2024.008147"
        ]
       ],
       "shape": {
        "columns": 6,
        "rows": 5
       }
      },
      "text/html": [
       "<div>\n",
       "<style scoped>\n",
       "    .dataframe tbody tr th:only-of-type {\n",
       "        vertical-align: middle;\n",
       "    }\n",
       "\n",
       "    .dataframe tbody tr th {\n",
       "        vertical-align: top;\n",
       "    }\n",
       "\n",
       "    .dataframe thead th {\n",
       "        text-align: right;\n",
       "    }\n",
       "</style>\n",
       "<table border=\"1\" class=\"dataframe\">\n",
       "  <thead>\n",
       "    <tr style=\"text-align: right;\">\n",
       "      <th></th>\n",
       "      <th>country</th>\n",
       "      <th>year</th>\n",
       "      <th>pop</th>\n",
       "      <th>continent</th>\n",
       "      <th>lifeExp</th>\n",
       "      <th>gdpPercap</th>\n",
       "    </tr>\n",
       "  </thead>\n",
       "  <tbody>\n",
       "    <tr>\n",
       "      <th>456</th>\n",
       "      <td>Egypt</td>\n",
       "      <td>1952</td>\n",
       "      <td>22223309.0</td>\n",
       "      <td>Africa</td>\n",
       "      <td>41.893</td>\n",
       "      <td>1418.822445</td>\n",
       "    </tr>\n",
       "    <tr>\n",
       "      <th>457</th>\n",
       "      <td>Egypt</td>\n",
       "      <td>1957</td>\n",
       "      <td>25009741.0</td>\n",
       "      <td>Africa</td>\n",
       "      <td>44.444</td>\n",
       "      <td>1458.915272</td>\n",
       "    </tr>\n",
       "    <tr>\n",
       "      <th>458</th>\n",
       "      <td>Egypt</td>\n",
       "      <td>1962</td>\n",
       "      <td>28173309.0</td>\n",
       "      <td>Africa</td>\n",
       "      <td>46.992</td>\n",
       "      <td>1693.335853</td>\n",
       "    </tr>\n",
       "    <tr>\n",
       "      <th>459</th>\n",
       "      <td>Egypt</td>\n",
       "      <td>1967</td>\n",
       "      <td>31681188.0</td>\n",
       "      <td>Africa</td>\n",
       "      <td>49.293</td>\n",
       "      <td>1814.880728</td>\n",
       "    </tr>\n",
       "    <tr>\n",
       "      <th>460</th>\n",
       "      <td>Egypt</td>\n",
       "      <td>1972</td>\n",
       "      <td>34807417.0</td>\n",
       "      <td>Africa</td>\n",
       "      <td>51.137</td>\n",
       "      <td>2024.008147</td>\n",
       "    </tr>\n",
       "  </tbody>\n",
       "</table>\n",
       "</div>"
      ],
      "text/plain": [
       "    country  year         pop continent  lifeExp    gdpPercap\n",
       "456   Egypt  1952  22223309.0    Africa   41.893  1418.822445\n",
       "457   Egypt  1957  25009741.0    Africa   44.444  1458.915272\n",
       "458   Egypt  1962  28173309.0    Africa   46.992  1693.335853\n",
       "459   Egypt  1967  31681188.0    Africa   49.293  1814.880728\n",
       "460   Egypt  1972  34807417.0    Africa   51.137  2024.008147"
      ]
     },
     "execution_count": 17,
     "metadata": {},
     "output_type": "execute_result"
    }
   ],
   "source": [
    "# Creating a new data frame with data from 2002\n",
    "egypt_df = df[df['country'] == 'Egypt']\n",
    "egypt_df.head()"
   ]
  },
  {
   "cell_type": "markdown",
   "metadata": {
    "tags": []
   },
   "source": [
    "## 🥊 Challenge 3: Subsetting Data Frames\n",
    "\n",
    "Besides `==` we can use [other operators](https://www.w3schools.com/python/gloss_python_comparison_operators.asp) to compare values. For instance:\n",
    "- `<` less than\n",
    "- `>` greater than\n",
    "\n",
    "Fill in the code below to subset our data frame to include only people with a life expectancy (`lifeExp`) less than 50."
   ]
  },
  {
   "cell_type": "code",
   "execution_count": 18,
   "metadata": {},
   "outputs": [
    {
     "data": {
      "text/plain": [
       "(1704, 6)"
      ]
     },
     "execution_count": 18,
     "metadata": {},
     "output_type": "execute_result"
    }
   ],
   "source": [
    "df.shape"
   ]
  },
  {
   "cell_type": "code",
   "execution_count": null,
   "metadata": {},
   "outputs": [],
   "source": [
    "# YOUR CODE HERE\n",
    "df[df[...] < ...]"
   ]
  },
  {
   "cell_type": "markdown",
   "metadata": {},
   "source": [
    "## 🥊 Challenge 4: Subsetting and Calculating the Mean\n",
    "\n",
    "Let's make use of subsetting to do some calculation! Calculate the **mean life expectancy** for a continent of your choice. \n",
    "\n",
    "This means you will have to:\n",
    "1. Subset the `continent` column using a Boolean mask.\n",
    "2. Take the `lifeExp` column from that subset.\n",
    "3. Apply a Pandas method to get the mean from that column.\n",
    "\n",
    "You might not know how to get the mean of a column – yet! If that's the case, **use your search engine**.\n",
    "\n",
    "1. Enter the name of the computer language or package, and your question (for instance: \"Pandas calculate mean\").\n",
    "2. Read and compare the results you find.\n",
    "3. Try 'em out!"
   ]
  },
  {
   "cell_type": "code",
   "execution_count": null,
   "metadata": {},
   "outputs": [],
   "source": [
    "# YOUR CODE HERE\n",
    "\n"
   ]
  },
  {
   "cell_type": "markdown",
   "metadata": {
    "tags": []
   },
   "source": [
    "<a id='group'></a>\n",
    "\n",
    "# 🎬 Demo: Grouping and Plotting Data Frames\n",
    "\n",
    "There is a lot more you can do in Pandas. Take your learning further with [**Parts 4-6 of Python Fundamentals**](https://github.com/dlab-berkeley/Python-Fundamentals) or D-Lab's [**Python Data Wrangling**](https://github.com/dlab-berkeley/Python-Data-Wrangling) workshop. \n",
    "\n",
    "[Register now](https://dlab.berkeley.edu/training/upcoming-workshops) to our upcoming workshops to learn more skills in Pandas, such as `groupby()`: a powerful operation that allows you to split data into groups based on some criteria. \n",
    "\n",
    "Here's a small demo of what you'll learn in [**Python Data Wrangling**](https://github.com/dlab-berkeley/Python-Data-Wrangling):"
   ]
  },
  {
   "cell_type": "code",
   "execution_count": null,
   "metadata": {},
   "outputs": [],
   "source": [
    "import matplotlib.pyplot as plt\n",
    "\n",
    "# Create new column with life expectancy sorted into 5 bins\n",
    "df['lifeExpBins'] = pd.cut(df['lifeExp'], 5)\n",
    "\n",
    "# Group by continent, get the \"gdpPercap\" column. \n",
    "# Learn more in D-Lab's Data Wrangling workshop!\n",
    "df_grouped = df.groupby('continent')['lifeExpBins'].value_counts()\n",
    "\n",
    "# Pivot the table and put it in a new DataFrame\n",
    "ag = df_grouped.unstack()\n",
    "\n",
    "# Plot barchart. Learn more in D-Lab's Data Visualization workshop!\n",
    "ag.plot.bar();"
   ]
  },
  {
   "cell_type": "markdown",
   "metadata": {},
   "source": [
    "# 🎉 Well Done!\n",
    "\n",
    "This workshop series took us through the basics of data analysis in Python:\n",
    "\n",
    "- Using Jupyter notebooks\n",
    "- Variables, data types, functions\n",
    "- Looking through documentation\n",
    "- Googling errors and debugging\n",
    "- Manipulating data with Pandas\n"
   ]
  },
  {
   "cell_type": "markdown",
   "metadata": {
    "jp-MarkdownHeadingCollapsed": true,
    "tags": []
   },
   "source": [
    "<div class=\"alert alert-success\">\n",
    "\n",
    "## ❗ Key Points\n",
    "\n",
    "* Import a library into Python using `import <libraryname>`.\n",
    "* Data frames allow you to work with tabular data (think Excel in Python).\n",
    "* A .csv file is just a text file that contains data separated by commas.\n",
    "* Use the `pandas` library to work with data frames.\n",
    "* Data frames are typically assigned as `df`.\n",
    "* `DataFrame` columns can be indexed using square brackets - e.g. `df[last_name]` indexes a column called \"last_name\" in `df`.\n",
    "    \n",
    "</div>"
   ]
  }
 ],
 "metadata": {
  "kernelspec": {
   "display_name": "dighum101",
   "language": "python",
   "name": "python3"
  },
  "language_info": {
   "codemirror_mode": {
    "name": "ipython",
    "version": 3
   },
   "file_extension": ".py",
   "mimetype": "text/x-python",
   "name": "python",
   "nbconvert_exporter": "python",
   "pygments_lexer": "ipython3",
   "version": "3.12.10"
  },
  "toc": {
   "base_numbering": 1,
   "nav_menu": {},
   "number_sections": false,
   "sideBar": true,
   "skip_h1_title": false,
   "title_cell": "Table of Contents",
   "title_sidebar": "Contents",
   "toc_cell": false,
   "toc_position": {},
   "toc_section_display": true,
   "toc_window_display": false
  },
  "varInspector": {
   "cols": {
    "lenName": 16,
    "lenType": 16,
    "lenVar": 40
   },
   "kernels_config": {
    "python": {
     "delete_cmd_postfix": "",
     "delete_cmd_prefix": "del ",
     "library": "var_list.py",
     "varRefreshCmd": "print(var_dic_list())"
    },
    "r": {
     "delete_cmd_postfix": ") ",
     "delete_cmd_prefix": "rm(",
     "library": "var_list.r",
     "varRefreshCmd": "cat(var_dic_list()) "
    }
   },
   "types_to_exclude": [
    "module",
    "function",
    "builtin_function_or_method",
    "instance",
    "_Feature"
   ],
   "window_display": false
  }
 },
 "nbformat": 4,
 "nbformat_minor": 4
}
